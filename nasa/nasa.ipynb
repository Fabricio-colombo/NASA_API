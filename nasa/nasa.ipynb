{
 "cells": [
  {
   "cell_type": "code",
   "execution_count": 18,
   "metadata": {},
   "outputs": [
    {
     "name": "stdout",
     "output_type": "stream",
     "text": [
      "{'photos': [{'id': 102693, 'sol': 1000, 'camera': {'id': 20, 'name': 'FHAZ', 'rover_id': 5, 'full_name': 'Front Hazard Avoidance Camera'}, 'img_src': 'http://mars.jpl.nasa.gov/msl-raw-images/proj/msl/redops/ods/surface/sol/01000/opgs/edr/fcam/FLB_486265257EDR_F0481570FHAZ00323M_.JPG', 'earth_date': '2015-05-30', 'rover': {'id': 5, 'name': 'Curiosity', 'landing_date': '2012-08-06', 'launch_date': '2011-11-26', 'status': 'active', 'max_sol': 4074, 'max_date': '2024-01-21', 'total_photos': 694987, 'cameras': [{'name': 'FHAZ', 'full_name': 'Front Hazard Avoidance Camera'}, {'name': 'NAVCAM', 'full_name': 'Navigation Camera'}, {'name': 'MAST', 'full_name': 'Mast Camera'}, {'name': 'CHEMCAM', 'full_name': 'Chemistry and Camera Complex'}, {'name': 'MAHLI', 'full_name': 'Mars Hand Lens Imager'}, {'name': 'MARDI', 'full_name': 'Mars Descent Imager'}, {'name': 'RHAZ', 'full_name': 'Rear Hazard Avoidance Camera'}]}}, {'id': 102694, 'sol': 1000, 'camera': {'id': 20, 'name': 'FHAZ', 'rover_id': 5, 'full_name': 'Front Hazard Avoidance Camera'}, 'img_src': 'http://mars.jpl.nasa.gov/msl-raw-images/proj/msl/redops/ods/surface/sol/01000/opgs/edr/fcam/FRB_486265257EDR_F0481570FHAZ00323M_.JPG', 'earth_date': '2015-05-30', 'rover': {'id': 5, 'name': 'Curiosity', 'landing_date': '2012-08-06', 'launch_date': '2011-11-26', 'status': 'active', 'max_sol': 4074, 'max_date': '2024-01-21', 'total_photos': 694987, 'cameras': [{'name': 'FHAZ', 'full_name': 'Front Hazard Avoidance Camera'}, {'name': 'NAVCAM', 'full_name': 'Navigation Camera'}, {'name': 'MAST', 'full_name': 'Mast Camera'}, {'name': 'CHEMCAM', 'full_name': 'Chemistry and Camera Complex'}, {'name': 'MAHLI', 'full_name': 'Mars Hand Lens Imager'}, {'name': 'MARDI', 'full_name': 'Mars Descent Imager'}, {'name': 'RHAZ', 'full_name': 'Rear Hazard Avoidance Camera'}]}}]}\n"
     ]
    }
   ],
   "source": [
    "import requests\n",
    "\n",
    "# Sua chave da API da NASA\n",
    "api_key = 'cvQgQjdkHKj4HmHTBD5zYJTAv8dTd7yIxZT8H2qG'\n",
    "\n",
    "# URL base da API\n",
    "base_url = 'https://api.nasa.gov/mars-photos/api/v1/rovers/curiosity/photos'\n",
    "\n",
    "# Parâmetros da solicitação\n",
    "params = {\n",
    "    'sol': 1000,\n",
    "    'camera': 'fhaz',\n",
    "    'api_key': api_key\n",
    "}\n",
    "\n",
    "# Fazendo a solicitação GET com os parâmetros\n",
    "requisicao = requests.get(base_url, params=params)\n",
    "\n",
    "# Verifica se a solicitação foi bem-sucedida (código de status 200)\n",
    "if requisicao.status_code == 200:\n",
    "    # Exibe o conteúdo da resposta (formato JSON)\n",
    "    data = requisicao.json()\n",
    "    print(data)\n",
    "else:\n",
    "    # Em caso de erro, imprime o código de status e a mensagem de erro\n",
    "    print(f'Erro {requisicao.status_code}: {requisicao.text}')\n"
   ]
  },
  {
   "cell_type": "code",
   "execution_count": 19,
   "metadata": {},
   "outputs": [
    {
     "name": "stdout",
     "output_type": "stream",
     "text": [
      "ID da Foto: 102693\n",
      "Sol: 1000\n",
      "Câmera: FHAZ - Front Hazard Avoidance Camera\n",
      "Imagem: http://mars.jpl.nasa.gov/msl-raw-images/proj/msl/redops/ods/surface/sol/01000/opgs/edr/fcam/FLB_486265257EDR_F0481570FHAZ00323M_.JPG\n",
      "Data na Terra: 2015-05-30\n",
      "--------------------------------------------------\n",
      "ID da Foto: 102694\n",
      "Sol: 1000\n",
      "Câmera: FHAZ - Front Hazard Avoidance Camera\n",
      "Imagem: http://mars.jpl.nasa.gov/msl-raw-images/proj/msl/redops/ods/surface/sol/01000/opgs/edr/fcam/FRB_486265257EDR_F0481570FHAZ00323M_.JPG\n",
      "Data na Terra: 2015-05-30\n",
      "--------------------------------------------------\n"
     ]
    }
   ],
   "source": [
    "resposta = {'photos': [{'id': 102693, 'sol': 1000, 'camera': {'id': 20, 'name': 'FHAZ', 'rover_id': 5, 'full_name': 'Front Hazard Avoidance Camera'}, 'img_src': 'http://mars.jpl.nasa.gov/msl-raw-images/proj/msl/redops/ods/surface/sol/01000/opgs/edr/fcam/FLB_486265257EDR_F0481570FHAZ00323M_.JPG', 'earth_date': '2015-05-30', 'rover': {'id': 5, 'name': 'Curiosity', 'landing_date': '2012-08-06', 'launch_date': '2011-11-26', 'status': 'active', 'max_sol': 4074, 'max_date': '2024-01-21', 'total_photos': 694987, 'cameras': [{'name': 'FHAZ', 'full_name': 'Front Hazard Avoidance Camera'}, {'name': 'NAVCAM', 'full_name': 'Navigation Camera'}, {'name': 'MAST', 'full_name': 'Mast Camera'}, {'name': 'CHEMCAM', 'full_name': 'Chemistry and Camera Complex'}, {'name': 'MAHLI', 'full_name': 'Mars Hand Lens Imager'}, {'name': 'MARDI', 'full_name': 'Mars Descent Imager'}, {'name': 'RHAZ', 'full_name': 'Rear Hazard Avoidance Camera'}]}}, {'id': 102694, 'sol': 1000, 'camera': {'id': 20, 'name': 'FHAZ', 'rover_id': 5, 'full_name': 'Front Hazard Avoidance Camera'}, 'img_src': 'http://mars.jpl.nasa.gov/msl-raw-images/proj/msl/redops/ods/surface/sol/01000/opgs/edr/fcam/FRB_486265257EDR_F0481570FHAZ00323M_.JPG', 'earth_date': '2015-05-30', 'rover': {'id': 5, 'name': 'Curiosity', 'landing_date': '2012-08-06', 'launch_date': '2011-11-26', 'status': 'active', 'max_sol': 4074, 'max_date': '2024-01-21', 'total_photos': 694987, 'cameras': [{'name': 'FHAZ', 'full_name': 'Front Hazard Avoidance Camera'}, {'name': 'NAVCAM', 'full_name': 'Navigation Camera'}, {'name': 'MAST', 'full_name': 'Mast Camera'}, {'name': 'CHEMCAM', 'full_name': 'Chemistry and Camera Complex'}, {'name': 'MAHLI', 'full_name': 'Mars Hand Lens Imager'}, {'name': 'MARDI', 'full_name': 'Mars Descent Imager'}, {'name': 'RHAZ', 'full_name': 'Rear Hazard Avoidance Camera'}]}}]}\n",
    "\n",
    "# Itera sobre a lista de fotos\n",
    "for foto in resposta['photos']:\n",
    "    print(f'ID da Foto: {foto[\"id\"]}')\n",
    "    print(f'Sol: {foto[\"sol\"]}')\n",
    "    print(f'Câmera: {foto[\"camera\"][\"name\"]} - {foto[\"camera\"][\"full_name\"]}')\n",
    "    print(f'Imagem: {foto[\"img_src\"]}')\n",
    "    print(f'Data na Terra: {foto[\"earth_date\"]}')\n",
    "    print('-' * 50)  # Linha de separação para facilitar a leitura\n"
   ]
  },
  {
   "cell_type": "code",
   "execution_count": 20,
   "metadata": {},
   "outputs": [
    {
     "name": "stdout",
     "output_type": "stream",
     "text": [
      "Imagem salva como 102693.png\n",
      "Imagem salva como 102694.png\n"
     ]
    }
   ],
   "source": [
    "import requests\n",
    "from PIL import Image\n",
    "from io import BytesIO\n",
    "\n",
    "# Função para baixar a imagem e salvá-la como PNG\n",
    "def baixar_e_salvar_imagem(url, nome_do_arquivo):\n",
    "    # Faz a solicitação para obter a imagem\n",
    "    resposta = requests.get(url)\n",
    "    \n",
    "    # Verifica se a solicitação foi bem-sucedida (código de status 200)\n",
    "    if resposta.status_code == 200:\n",
    "        # Abre a imagem usando o Pillow\n",
    "        imagem = Image.open(BytesIO(resposta.content))\n",
    "        \n",
    "        # Salva a imagem como PNG no mesmo diretório\n",
    "        imagem.save(nome_do_arquivo + '.png', 'PNG')\n",
    "        print(f'Imagem salva como {nome_do_arquivo}.png')\n",
    "    else:\n",
    "        # Em caso de erro, imprime o código de status e a mensagem de erro\n",
    "        print(f'Erro {resposta.status_code}: {resposta.text}')\n",
    "\n",
    "# Itera sobre a lista de fotos\n",
    "for foto in resposta['photos']:\n",
    "    # Obtém o URL da imagem\n",
    "    url_da_imagem = foto[\"img_src\"]\n",
    "    \n",
    "    # Obtém o ID da foto para ser usado como nome do arquivo\n",
    "    id_da_foto = str(foto[\"id\"])\n",
    "    \n",
    "    # Chama a função para baixar e salvar a imagem\n",
    "    baixar_e_salvar_imagem(url_da_imagem, id_da_foto)\n"
   ]
  }
 ],
 "metadata": {
  "kernelspec": {
   "display_name": "Python 3",
   "language": "python",
   "name": "python3"
  },
  "language_info": {
   "codemirror_mode": {
    "name": "ipython",
    "version": 3
   },
   "file_extension": ".py",
   "mimetype": "text/x-python",
   "name": "python",
   "nbconvert_exporter": "python",
   "pygments_lexer": "ipython3",
   "version": "3.12.1"
  }
 },
 "nbformat": 4,
 "nbformat_minor": 2
}
